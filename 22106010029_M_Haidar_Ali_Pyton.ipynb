{
  "nbformat": 4,
  "nbformat_minor": 0,
  "metadata": {
    "colab": {
      "provenance": [],
      "authorship_tag": "ABX9TyMVCpn1SolQSlQVJPwEptbe",
      "include_colab_link": true
    },
    "kernelspec": {
      "name": "python3",
      "display_name": "Python 3"
    },
    "language_info": {
      "name": "python"
    }
  },
  "cells": [
    {
      "cell_type": "markdown",
      "metadata": {
        "id": "view-in-github",
        "colab_type": "text"
      },
      "source": [
        "<a href=\"https://colab.research.google.com/github/haidar021/UAS_ARW/blob/main/22106010029_M_Haidar_Ali_Pyton.ipynb\" target=\"_parent\"><img src=\"https://colab.research.google.com/assets/colab-badge.svg\" alt=\"Open In Colab\"/></a>"
      ]
    },
    {
      "cell_type": "code",
      "execution_count": 4,
      "metadata": {
        "colab": {
          "base_uri": "https://localhost:8080/",
          "height": 851
        },
        "id": "Vc6QMoppYdAE",
        "outputId": "6254f47e-18ee-43cb-9167-81d2f8a89f2c"
      },
      "outputs": [
        {
          "name": "stdout",
          "output_type": "stream",
          "text": [
            "Pilih jenis graf: path, cycle, complete, star, wheel\n",
            "Input jenis graf : star\n",
            "Input jumlah simpul (angka > 2): 4\n"
          ]
        },
        {
          "output_type": "display_data",
          "data": {
            "text/plain": [
              "<Figure size 640x480 with 1 Axes>"
            ],
            "image/png": "[encoded data removed]"
          },
          "metadata": {}
        },
        {
          "output_type": "stream",
          "name": "stdout",
          "text": [
            "Adjacency Matrix:\n",
            "[[0 1 1 1]\n",
            " [1 0 0 0]\n",
            " [1 0 0 0]\n",
            " [1 0 0 0]]\n",
            "\n",
            "Eigenvalues:\n",
            "-sqrt(3) (multiplicity 1)\n",
            "sqrt(3) (multiplicity 1)\n",
            "0 (multiplicity 2)\n",
            "\n",
            "Polinomial Karakteristik:\n",
            "p(λ) = lambda**4 - 3*lambda**2\n"
          ]
        },
        {
          "output_type": "execute_result",
          "data": {
            "text/plain": [
              "({-sqrt(3): 1, sqrt(3): 1, 0: 2},\n",
              " PurePoly(lambda**4 - 3*lambda**2, lambda, domain='ZZ'))"
            ]
          },
          "metadata": {},
          "execution_count": 4
        }
      ],
      "source": [
        "import networkx as nx\n",
        "import numpy as np\n",
        "import sympy as sp\n",
        "import matplotlib.pyplot as plt\n",
        "\n",
        "def buat_graf(jenis: str, ukuran: int):\n",
        "    \"\"\"Membuat graf berdasarkan jenis dan ukuran simpul.\"\"\"\n",
        "    if jenis == \"path\":\n",
        "        return nx.path_graph(ukuran)\n",
        "    elif jenis == \"cycle\":\n",
        "        return nx.cycle_graph(ukuran)\n",
        "    elif jenis == \"complete\":\n",
        "        return nx.complete_graph(ukuran)\n",
        "    elif jenis == \"star\":\n",
        "        return nx.star_graph(ukuran - 1)\n",
        "    elif jenis == \"wheel\":\n",
        "        return nx.wheel_graph(ukuran)\n",
        "    else:\n",
        "        raise ValueError(\"Jenis graf tidak dikenali.\")\n",
        "\n",
        "def tampilkan_adjacency_matrix(G):\n",
        "    A = nx.adjacency_matrix(G).todense()\n",
        "    print(\"Adjacency Matrix:\")\n",
        "    print(np.array(A))\n",
        "    return A\n",
        "\n",
        "def tampilkan_visualisasi(G, judul=\"Graf\"):\n",
        "    nx.draw(G, with_labels=True, node_color='skyblue', node_size=800)\n",
        "    plt.title(judul)\n",
        "    plt.show()\n",
        "\n",
        "def hitung_eigen_dan_polinomial(A):\n",
        "    A_sym = sp.Matrix(A)\n",
        "    eigenvals = A_sym.eigenvals()\n",
        "    char_poly = A_sym.charpoly()\n",
        "\n",
        "    print(\"\\nEigenvalues:\")\n",
        "    for val, mult in eigenvals.items():\n",
        "        print(f\"{val} (multiplicity {mult})\")\n",
        "\n",
        "    print(\"\\nPolinomial Karakteristik:\")\n",
        "    print(f\"p(λ) = {char_poly.as_expr()}\")\n",
        "\n",
        "    return eigenvals, char_poly\n",
        "\n",
        "# -----------------------------\n",
        "# input data\n",
        "\n",
        "print(\"Pilih jenis graf: path, cycle, complete, star, wheel\")\n",
        "jenis_graf = input(\"Input jenis graf : \").strip().lower()\n",
        "ukuran = int(input(\"Input jumlah simpul (angka > 2): \"))\n",
        "\n",
        "# 1.  tampilkan graf\n",
        "G = buat_graf(jenis_graf, ukuran)\n",
        "tampilkan_visualisasi(G, f\"{jenis_graf.capitalize()} Graph (n={ukuran})\")\n",
        "\n",
        "# 2. Tampilkan adjacency matrix\n",
        "A = tampilkan_adjacency_matrix(G)\n",
        "\n",
        "# 3. Nilai eigenvalues & polinomial karakteristik\n",
        "hitung_eigen_dan_polinomial(A)"
      ]
    },
    {
      "cell_type": "code",
      "source": [],
      "metadata": {
        "id": "I6FBCnB3Y18v"
      },
      "execution_count": 2,
      "outputs": []
    }
  ]
}